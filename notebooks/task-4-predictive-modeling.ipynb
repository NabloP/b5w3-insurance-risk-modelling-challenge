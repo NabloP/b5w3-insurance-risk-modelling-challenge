{
 "cells": [
  {
   "cell_type": "markdown",
   "id": "d3ac62be",
   "metadata": {},
   "source": [
    "# 🤖 Task 4 – Predictive Modeling & Risk Scoring  \n",
    "📘 Version: 2025-06-XX\n",
    "\n",
    "This notebook implements the end-to-end predictive modeling pipeline for AlphaCare Insurance Solutions (ACIS), using enriched risk signals from Task 3 to build explainable, segment-aware risk models. The models aim to forecast **claim probability** (`ClaimFrequency`) and **profitability** (`Margin`) to guide premium optimization and underwriting strategy.\n",
    "\n",
    "---\n",
    "\n",
    "**Challenge:** B5W3 – Insurance Risk Analytics & Predictive Modeling  \n",
    "**Company:** AlphaCare Insurance Solutions (ACIS)  \n",
    "**Author:** Nabil Mohamed  \n",
    "**Branch:** `task-4-predictive-modeling`  \n",
    "**Date:** June 2025  \n",
    "\n",
    "---\n",
    "\n",
    "### 📌 This notebook covers:\n",
    "\n",
    "- Loading the cleaned, enriched dataset (`data/processed/enriched_insurance_data.csv`)\n",
    "- Selecting modeling targets:\n",
    "  - **Claim Frequency** (binary classification)\n",
    "  - **Margin** (continuous regression)\n",
    "- Splitting data into train/test sets with stratification and leakage prevention\n",
    "- Training baseline and advanced models:\n",
    "  - **Logistic Regression**, **Random Forest**, **XGBoost**\n",
    "- Evaluating performance using:\n",
    "  - Accuracy, AUC, Precision/Recall (for classification)\n",
    "  - MAE, RMSE, R² (for regression)\n",
    "- Generating explainability outputs:\n",
    "  - Feature importances\n",
    "  - SHAP or permutation-based insights\n",
    "- Saving trained models and diagnostic plots to `data/outputs/` for deployment and stakeholder review\n"
   ]
  },
  {
   "cell_type": "code",
   "execution_count": 1,
   "id": "95aeba0d",
   "metadata": {},
   "outputs": [
    {
     "name": "stdout",
     "output_type": "stream",
     "text": [
      "📂 Changed working directory to project root\n",
      "✅ Added to sys.path: c:\\Users\\admin\\Documents\\GIT Repositories\\b5w3-insurance-risk-modelling-challenge\n",
      "📁 Output path ready\n"
     ]
    }
   ],
   "source": [
    "# ------------------------------------------------------------------------------\n",
    "# 🛠 Ensure Notebook Runs from Project Root (for src/ imports to work)\n",
    "# ------------------------------------------------------------------------------\n",
    "\n",
    "import os\n",
    "import sys\n",
    "\n",
    "# If running from /notebooks/, move up to project root\n",
    "if os.path.basename(os.getcwd()) == \"notebooks\":\n",
    "    os.chdir(\"..\")\n",
    "    print(\"📂 Changed working directory to project root\")\n",
    "\n",
    "# Add project root to sys.path so `src/` modules can be imported\n",
    "project_root = os.getcwd()\n",
    "if project_root not in sys.path:\n",
    "    sys.path.insert(0, project_root)\n",
    "    print(f\"✅ Added to sys.path: {project_root}\")\n",
    "\n",
    "# Optional: verify file presence to confirm we're in the right place\n",
    "expected_path = \"data/raw\"\n",
    "print(\n",
    "    \"📁 Output path ready\"\n",
    "    if os.path.exists(expected_path)\n",
    "    else f\"⚠️ Output path not found: {expected_path}\"\n",
    ")"
   ]
  },
  {
   "cell_type": "markdown",
   "id": "bfbbcae3",
   "metadata": {},
   "source": [
    "## 📦 Imports & Environment Setup\n",
    "\n",
    "This cell loads core libraries required for exploratory data analysis, statistical validation, and plotting. The imports are grouped by function:\n",
    "\n",
    "- Data handling: `pandas`, `numpy`\n",
    "- Visualization: `matplotlib`, `seaborn`\n",
    "- Statistical analysis: `scipy`, `statsmodels`\n",
    "- Utility & system: `os`, `warnings`\n"
   ]
  },
  {
   "cell_type": "code",
   "execution_count": 2,
   "id": "20a161bf",
   "metadata": {},
   "outputs": [],
   "source": [
    "# ------------------------------------------------------------------------------\n",
    "# 📦 Core Imports – Data Handling, Plotting, Stats, Utilities\n",
    "# ------------------------------------------------------------------------------\n",
    "\n",
    "# Standard Library\n",
    "import os  # File and path management\n",
    "import warnings  # To suppress non-critical warnings\n",
    "\n",
    "# Core Analysis\n",
    "import pandas as pd  # Primary data structure and I/O\n",
    "import numpy as np  # Numerical computations\n",
    "\n",
    "# Visualization\n",
    "import matplotlib.pyplot as plt  # Static plots\n",
    "import seaborn as sns  # Statistical plotting on top of matplotlib\n",
    "\n",
    "# Statistical Testing\n",
    "from scipy import stats  # t-tests, normality, correlation\n",
    "import statsmodels.api as sm  # Model diagnostics and inference\n",
    "\n",
    "# Optional: clean up output\n",
    "warnings.filterwarnings(\"ignore\")\n",
    "sns.set(style=\"whitegrid\")"
   ]
  },
  {
   "cell_type": "markdown",
   "id": "de86338f",
   "metadata": {},
   "source": [
    "## 📥 Load & Preview Enriched Insurance Dataset (Task 4 Modeling Prep)\n",
    "\n",
    "This step loads the enriched AlphaCare insurance dataset (`enriched_insurance_data.csv`) generated at the end of Task 3. It contains fully cleaned, encoded, and outlier-trimmed records with three derived KPIs:\n",
    "\n",
    "- `ClaimFrequency` (binary target)\n",
    "- `ClaimSeverity` (average claim value if claims > 0)\n",
    "- `Margin` (TotalPremium - TotalClaims)\n",
    "\n",
    "The file is read from `data/processed/` in CSV format using `pandas`, bypassing raw TSV parsing since all preprocessing was previously handled.\n",
    "\n",
    "This ensures the dataset is modeling-ready — with:\n",
    "- No nulls\n",
    "- Fully numeric columns\n",
    "- Minimal leakage\n",
    "- Reproducible structure for both classification and regression tasks\n"
   ]
  },
  {
   "cell_type": "code",
   "execution_count": 3,
   "id": "8bd98ba8",
   "metadata": {},
   "outputs": [
    {
     "name": "stdout",
     "output_type": "stream",
     "text": [
      "✅ Loaded enriched dataset: 257,736 rows × 44 columns\n"
     ]
    }
   ],
   "source": [
    "# ----------------------------------------------------------------------\n",
    "# 📦 Load Enriched Insurance Data (Modeling-Ready Input)\n",
    "# ----------------------------------------------------------------------\n",
    "\n",
    "import pandas as pd  # Using pandas directly since no preprocessing is needed\n",
    "\n",
    "# Define path to preprocessed, KPI-enriched dataset\n",
    "data_path = \"data/processed/enriched_insurance_data.csv\"\n",
    "\n",
    "# Attempt to load the CSV file defensively\n",
    "try:\n",
    "    df = pd.read_csv(data_path)\n",
    "    print(f\"✅ Loaded enriched dataset: {df.shape[0]:,} rows × {df.shape[1]} columns\")\n",
    "except Exception as e:\n",
    "    print(f\"❌ Failed to load enriched dataset: {e}\")"
   ]
  },
  {
   "cell_type": "markdown",
   "id": "5826a8ee",
   "metadata": {},
   "source": [
    "## 🎯 Task 4: Target & Feature Isolation via `TargetFeatureBuilder` Module\n",
    "\n",
    "This step prepares the dataset for predictive modeling by:\n",
    "\n",
    "- Dropping known leakage columns (e.g., `PolicyID`, `TotalClaims`, `NumClaims`)\n",
    "- Defining the **binary classification target**: `ClaimFrequency`\n",
    "- Defining the **regression target**: `Margin`\n",
    "- Isolating numeric features (`X`) suitable for modeling\n",
    "- Performing class imbalance diagnostics for `ClaimFrequency`\n",
    "\n",
    "The output of this step consists of:\n",
    "\n",
    "- `X` → cleaned input features (no leakage or target columns)\n",
    "- `y_class` → binary classification target\n",
    "- `y_reg` → continuous regression target\n",
    "\n",
    "This modular approach ensures reproducibility and aligns with rubric expectations for Task 4: Predictive Modeling in B5W3.\n"
   ]
  },
  {
   "cell_type": "code",
   "execution_count": 4,
   "id": "85c9c38c",
   "metadata": {},
   "outputs": [
    {
     "name": "stdout",
     "output_type": "stream",
     "text": [
      "🧹 Dropped leakage columns: ['PolicyID', 'UnderwrittenCoverID', 'TotalClaims', 'TotalPremium'] → New shape: (257736, 40)\n",
      "✅ Features isolated → X shape: (257736, 38), Targets: y_class=(257736,), y_reg=(257736,)\n",
      "📊 ClaimFrequency Distribution:\n",
      "ClaimFrequency\n",
      "0    0.997\n",
      "1    0.003\n",
      "⚠️ Warning: Significant class imbalance detected.\n",
      "✅ Modeling frame prepared → Features: (257736, 38), Classification Target: (257736,), Regression Target: (257736,)\n"
     ]
    }
   ],
   "source": [
    "# ------------------------------------------------------------------------------\n",
    "# 🎯 Task 4: Target & Feature Isolation via TargetFeatureBuilder Module\n",
    "# ------------------------------------------------------------------------------\n",
    "\n",
    "from src.modeling.target_feature_builder import (\n",
    "    TargetFeatureBuilder,\n",
    ")  # Import our builder class\n",
    "\n",
    "# Initialize target builder (default targets: ClaimFrequency, Margin)\n",
    "builder = TargetFeatureBuilder()\n",
    "\n",
    "# Step 1: Run full preparation pipeline\n",
    "try:\n",
    "    # This separates the DataFrame into:\n",
    "    # X       → model input features (no targets or IDs)\n",
    "    # y_class → binary classification target (ClaimFrequency)\n",
    "    # y_reg   → continuous regression target (Margin)\n",
    "    X, y_class, y_reg = builder.prepare(df)\n",
    "    print(\n",
    "        f\"✅ Modeling frame prepared → Features: {X.shape}, Classification Target: {y_class.shape}, Regression Target: {y_reg.shape}\"\n",
    "    )\n",
    "except Exception as e:\n",
    "    print(f\"❌ Error during target/feature preparation: {e}\")"
   ]
  },
  {
   "cell_type": "markdown",
   "id": "2c5a7641",
   "metadata": {},
   "source": [
    "## 🧪 Task 4 – Train/Test Splitting with Stratified Sampling\n",
    "\n",
    "This step partitions the cleaned, feature-isolated AlphaCare insurance dataset into training and test sets for supervised learning. To ensure robust evaluation and mitigate class imbalance risks, we apply **stratified sampling** using the binary `ClaimFrequency` target as the stratification anchor.\n",
    "\n",
    "The resulting splits will be used across both classification (`ClaimFrequency`) and regression (`Margin`) models. Split ratios, shape diagnostics, and target distributions are logged to verify split quality and class preservation.\n",
    "\n",
    "**Module Used:** `TrainTestSplitter` from `src/modeling/train_test_splitter.py`  \n",
    "**Split Logic:** 80/20 with `random_state=42` for reproducibility  \n",
    "**Targets:**  \n",
    "- `y_class`: Binary target for claim classification  \n",
    "- `y_reg`: Continuous target for margin prediction  \n"
   ]
  },
  {
   "cell_type": "code",
   "execution_count": 5,
   "id": "6b9b8869",
   "metadata": {},
   "outputs": [
    {
     "name": "stdout",
     "output_type": "stream",
     "text": [
      "✅ Train/Test split complete\n",
      "📊 X_train: (206188, 38), X_test: (51548, 38)\n",
      "📊 y_class_train: (206188,), y_class_test: (51548,)\n",
      "📊 y_reg_train: (206188,), y_reg_test: (51548,)\n",
      "\n",
      "🧮 ClaimFrequency Distribution (Train):\n",
      "ClaimFrequency\n",
      "0    0.997\n",
      "1    0.003\n",
      "\n",
      "🧮 ClaimFrequency Distribution (Test):\n",
      "ClaimFrequency\n",
      "0    0.997\n",
      "1    0.003\n"
     ]
    }
   ],
   "source": [
    "# ------------------------------------------------------------------------------\n",
    "# 🧪 Task 4: Train/Test Split via TrainTestSplitter Module\n",
    "# ------------------------------------------------------------------------------\n",
    "\n",
    "from src.modeling.train_test_splitter import (\n",
    "    TrainTestSplitter,\n",
    ")  # Import our custom stratified splitting class\n",
    "\n",
    "# Instantiate the splitter class with defined test size and random seed\n",
    "splitter = TrainTestSplitter(\n",
    "    test_size=0.2, random_state=42\n",
    ")  # 20% test set, reproducible splits\n",
    "\n",
    "# Run the full split pipeline with robust error handling\n",
    "try:\n",
    "    # Perform stratified split using ClaimFrequency (binary classification target)\n",
    "    (\n",
    "        X_train,  # → Training features\n",
    "        X_test,  # → Testing features\n",
    "        y_class_train,  # → Training labels for classification task\n",
    "        y_class_test,  # → Testing labels for classification task\n",
    "        y_reg_train,  # → Training labels for regression task\n",
    "        y_reg_test,  # → Testing labels for regression task\n",
    "    ) = splitter.split(\n",
    "        X, y_class, y_reg\n",
    "    )  # Run split with defensive handling of mismatches or shape issues\n",
    "\n",
    "    # Log success of split operation\n",
    "    print(f\"✅ Train/Test split complete\")\n",
    "\n",
    "    # Print feature set dimensions for both train and test\n",
    "    print(f\"📊 X_train: {X_train.shape}, X_test: {X_test.shape}\")  # Feature counts\n",
    "    # Print target variable shapes for classification\n",
    "    print(\n",
    "        f\"📊 y_class_train: {y_class_train.shape}, y_class_test: {y_class_test.shape}\"\n",
    "    )\n",
    "    # Print target variable shapes for regression\n",
    "    print(f\"📊 y_reg_train: {y_reg_train.shape}, y_reg_test: {y_reg_test.shape}\")\n",
    "\n",
    "    # ───────────────────────────────────────────────────────────────────────────\n",
    "    # Print class distribution to confirm stratification integrity\n",
    "    # ───────────────────────────────────────────────────────────────────────────\n",
    "    train_dist = y_class_train.value_counts(normalize=True).round(\n",
    "        3\n",
    "    )  # Proportions in training set\n",
    "    test_dist = y_class_test.value_counts(normalize=True).round(\n",
    "        3\n",
    "    )  # Proportions in test set\n",
    "\n",
    "    # Display train distribution diagnostics\n",
    "    print(f\"\\n🧮 ClaimFrequency Distribution (Train):\\n{train_dist.to_string()}\")\n",
    "\n",
    "    # Display test distribution diagnostics\n",
    "    print(f\"\\n🧮 ClaimFrequency Distribution (Test):\\n{test_dist.to_string()}\")\n",
    "\n",
    "# Handle unexpected errors or misconfigurations in the splitting logic\n",
    "except Exception as e:\n",
    "    print(f\"❌ Train/Test splitting failed: {e}\")"
   ]
  },
  {
   "cell_type": "markdown",
   "id": "425f9c18",
   "metadata": {},
   "source": [
    "## ⚖️ Task 4 – Class Balancing with SMOTE\n",
    "\n",
    "This step addresses the severe class imbalance in the binary target variable `ClaimFrequency`, where claim occurrence (`1`) is significantly underrepresented.\n",
    "\n",
    "- **Technique Used:** SMOTE (Synthetic Minority Over-sampling Technique)\n",
    "- **Scope:** Only applied to the training set (`X_train`, `y_class_train`) to prevent test leakage\n",
    "- **Output:** Balanced training features and binary targets for use in classification models\n",
    "\n",
    "We also log original and post-balancing class distributions, with optional visual confirmation.\n"
   ]
  },
  {
   "cell_type": "code",
   "execution_count": 6,
   "id": "1bcf3684",
   "metadata": {},
   "outputs": [
    {
     "name": "stdout",
     "output_type": "stream",
     "text": [
      "📊 Original y_class_train distribution:\n",
      "ClaimFrequency\n",
      "0    0.997\n",
      "1    0.003\n",
      "\n",
      "✅ Class balancing complete → Balanced X_train: (206188, 38)\n",
      "📊 Balanced y_class_train distribution:\n",
      "ClaimFrequency\n",
      "0    205558\n",
      "1       630\n",
      "Name: count, dtype: int64\n",
      "⚠️ Class imbalance remains after SMOTE.\n"
     ]
    },
    {
     "data": {
      "image/png": "[encoded data removed]",
      "text/plain": [
       "<Figure size 640x480 with 1 Axes>"
      ]
     },
     "metadata": {},
     "output_type": "display_data"
    }
   ],
   "source": [
    "# ------------------------------------------------------------------------------\n",
    "# ⚖️ Task 4: Class Balancing with SMOTE via ClassBalancer Module\n",
    "# ------------------------------------------------------------------------------\n",
    "\n",
    "# Import our custom SMOTE wrapper from the modeling module\n",
    "from src.modeling.class_balancer import ClassBalancer\n",
    "\n",
    "# Step 1: Instantiate the SMOTE class balancer with a fixed random seed\n",
    "balancer = ClassBalancer(random_state=42)  # Ensures reproducible oversampling\n",
    "\n",
    "# Step 2: Begin balancing operation inside a try-except block for robustness\n",
    "try:\n",
    "    # ───────────────────────────────────────────────────────────────────────\n",
    "    # Diagnostic: Show original class distribution before applying SMOTE\n",
    "    # ───────────────────────────────────────────────────────────────────────\n",
    "    print(\"📊 Original y_class_train distribution:\")\n",
    "    print(\n",
    "        y_class_train.value_counts(normalize=True).round(3).to_string()\n",
    "    )  # Display proportions\n",
    "\n",
    "    # ───────────────────────────────────────────────────────────────────────\n",
    "    # Apply SMOTE only to the training split (never the test set!)\n",
    "    # ───────────────────────────────────────────────────────────────────────\n",
    "    X_train_balanced, y_class_train_balanced = balancer.balance(X_train, y_class_train)\n",
    "\n",
    "    # ───────────────────────────────────────────────────────────────────────\n",
    "    # Step 3: Print result diagnostics after balancing\n",
    "    # ───────────────────────────────────────────────────────────────────────\n",
    "    print(f\"\\n✅ Class balancing complete → Balanced X_train: {X_train_balanced.shape}\")\n",
    "    print(\"📊 Balanced y_class_train distribution:\")\n",
    "    print(y_class_train_balanced.value_counts())  # Absolute count by class\n",
    "\n",
    "    # ───────────────────────────────────────────────────────────────────────\n",
    "    # Optional: Check if balancing succeeded (e.g., 50/50 class split)\n",
    "    # ───────────────────────────────────────────────────────────────────────\n",
    "    if y_class_train_balanced.value_counts().nunique() == 1:\n",
    "        print(\"✅ Class distribution is now fully balanced (50/50).\")\n",
    "    else:\n",
    "        print(\"⚠️ Class imbalance remains after SMOTE.\")\n",
    "\n",
    "    # ───────────────────────────────────────────────────────────────────────\n",
    "    # Optional: Backup the original imbalanced data for later comparisons\n",
    "    # ───────────────────────────────────────────────────────────────────────\n",
    "    X_train_unbalanced = X_train.copy()  # Preserve pre-SMOTE features\n",
    "    y_class_train_unbalanced = y_class_train.copy()  # Preserve pre-SMOTE labels\n",
    "\n",
    "    # ───────────────────────────────────────────────────────────────────────\n",
    "    # Optional Bonus: Visual inspection of class balance using Seaborn\n",
    "    # ───────────────────────────────────────────────────────────────────────\n",
    "    import seaborn as sns\n",
    "    import matplotlib.pyplot as plt\n",
    "\n",
    "    sns.countplot(x=y_class_train_balanced)  # Plot class counts\n",
    "    plt.title(\"Post-SMOTE Class Distribution\")\n",
    "    plt.xlabel(\"ClaimFrequency\")\n",
    "    plt.ylabel(\"Count\")\n",
    "    plt.show()\n",
    "\n",
    "# Handle any failure in SMOTE application gracefully\n",
    "except Exception as e:\n",
    "    print(f\"❌ Class balancing failed: {e}\")"
   ]
  },
  {
   "cell_type": "code",
   "execution_count": 7,
   "id": "7e9f8c5b",
   "metadata": {},
   "outputs": [
    {
     "name": "stdout",
     "output_type": "stream",
     "text": [
      "✅ Missing values filled using median imputation.\n",
      "🧪 Any NaNs left in X_train_balanced? → 0\n",
      "🧪 Any NaNs left in X_test? → 0\n"
     ]
    }
   ],
   "source": [
    "# ------------------------------------------------------------------------------\n",
    "# 🛠️ Fix Missing Values Post-SMOTE via Imputation (Prevents Class Collapse)\n",
    "# ------------------------------------------------------------------------------\n",
    "\n",
    "from sklearn.impute import SimpleImputer  # Robust filling strategy\n",
    "\n",
    "# Step 1: Initialize imputer with median strategy (good for skewed distributions)\n",
    "imputer = SimpleImputer(strategy=\"median\")\n",
    "\n",
    "# Step 2: Fit on training data and transform both X_train and X_test\n",
    "X_train_balanced = pd.DataFrame(\n",
    "    imputer.fit_transform(X_train_balanced), columns=X_train_balanced.columns\n",
    ")\n",
    "\n",
    "X_test = pd.DataFrame(\n",
    "    imputer.transform(X_test),  # Note: transform only (do not fit again)\n",
    "    columns=X_test.columns,\n",
    ")\n",
    "\n",
    "print(\"✅ Missing values filled using median imputation.\")\n",
    "print(f\"🧪 Any NaNs left in X_train_balanced? → {X_train_balanced.isna().sum().sum()}\")\n",
    "print(f\"🧪 Any NaNs left in X_test? → {X_test.isna().sum().sum()}\")"
   ]
  },
  {
   "cell_type": "markdown",
   "id": "7ed8c600",
   "metadata": {},
   "source": [
    "## ⚙️ Task 4: Feature Scaling via FeatureScaler\n",
    "\n",
    "This step standardizes the feature set using either `StandardScaler` or `RobustScaler` \n",
    "(via the custom `FeatureScaler` class). It ensures consistent numerical range and \n",
    "centering for all continuous input features — a critical preprocessing step for many \n",
    "ML models (e.g., logistic regression, SVMs, neural networks).\n",
    "\n",
    "- Scales only numeric columns from `X_train_balanced` and `X_test`\n",
    "- Default method is z-score normalization (`StandardScaler`)\n",
    "- Supports `RobustScaler` for datasets with strong outliers\n",
    "- Returns `X_train_scaled` and `X_test_scaled` as NumPy arrays\n",
    "- Enables clean handoff into downstream model training\n",
    "\n",
    "This transformation ensures your features are normalized and model-ready.\n"
   ]
  },
  {
   "cell_type": "code",
   "execution_count": 8,
   "id": "279470ed",
   "metadata": {},
   "outputs": [
    {
     "name": "stdout",
     "output_type": "stream",
     "text": [
      "✅ Feature scaling complete\n",
      "📐 X_train_scaled shape: (206188, 38), X_test_scaled shape: (51548, 38)\n"
     ]
    }
   ],
   "source": [
    "# ------------------------------------------------------------------------------\n",
    "# ⚙️ Task 4: Feature Scaling via FeatureScaler (StandardScaler by Default)\n",
    "# ------------------------------------------------------------------------------\n",
    "\n",
    "from src.modeling.feature_scaler import FeatureScaler  # Import our custom scaler class\n",
    "\n",
    "# Step 1: Instantiate the scaler class (choose method: 'standard' or 'robust')\n",
    "scaler = FeatureScaler(\n",
    "    method=\"standard\"\n",
    ")  # Use 'robust' for outlier resistance if needed\n",
    "\n",
    "# Step 2: Run scaling on numeric columns of X_train and X_test\n",
    "try:\n",
    "    # Apply scaling transformation\n",
    "    X_train_scaled, X_test_scaled = scaler.scale(X_train_balanced, X_test)\n",
    "\n",
    "    # Step 3: Output shape diagnostics for confirmation\n",
    "    print(f\"✅ Feature scaling complete\")\n",
    "    print(\n",
    "        f\"📐 X_train_scaled shape: {X_train_scaled.shape}, X_test_scaled shape: {X_test_scaled.shape}\"\n",
    "    )\n",
    "\n",
    "except Exception as e:\n",
    "    # Handle errors such as bad input types or no numeric columns\n",
    "    print(f\"❌ Feature scaling failed: {e}\")"
   ]
  },
  {
   "cell_type": "markdown",
   "id": "0ca9d5af",
   "metadata": {},
   "source": [
    "### 🧠 Task 4: Train & Evaluate Logistic Regression Model (Claim Frequency Classifier)\n",
    "\n",
    "This cell trains a Logistic Regression model on the balanced training set (`X_train_balanced`, `y_class_train_balanced`) using our custom `LogisticModelTrainer` module.  \n",
    "It then predicts on the untouched test set and computes key classification metrics including accuracy, precision, recall, F1-score, and confusion matrix.\n",
    "\n",
    "All operations are performed defensively with full modular OOP compliance.\n"
   ]
  },
  {
   "cell_type": "code",
   "execution_count": 9,
   "id": "cf0d65af",
   "metadata": {},
   "outputs": [
    {
     "name": "stdout",
     "output_type": "stream",
     "text": [
      "✅ Logistic Regression model trained successfully.\n",
      "📊 Evaluation Metrics:\n",
      "  Accuracy: 0.9977\n",
      "  Precision: 1.0000\n",
      "  Recall: 0.2468\n",
      "  F1_Score: 0.3959\n",
      "  Confusion Matrix: [[51390, 0], [119, 39]]\n"
     ]
    }
   ],
   "source": [
    "# ------------------------------------------------------------------------------\n",
    "# 🧠 Task 4: Train & Evaluate Logistic Regression Classifier (Claim Frequency)\n",
    "# ------------------------------------------------------------------------------\n",
    "\n",
    "from src.modeling.logistic_model_trainer import (\n",
    "    LogisticModelTrainer,\n",
    ")  # Import our custom logistic regression class\n",
    "\n",
    "# Step 1: Instantiate the model trainer with default hyperparameters\n",
    "logreg_trainer = LogisticModelTrainer()  # Can override penalty/C/solver if needed\n",
    "\n",
    "# Step 2: Train the model on the balanced training data\n",
    "logreg_trainer.train(X_train_balanced, y_class_train_balanced)  # Fit model\n",
    "\n",
    "# Step 3: Predict on the untouched (imbalanced) test set\n",
    "y_class_pred = logreg_trainer.predict(X_test)  # Generate test predictions\n",
    "\n",
    "# Step 4: Evaluate predictions vs. actual labels\n",
    "logreg_metrics = logreg_trainer.evaluate(\n",
    "    y_class_test, y_class_pred\n",
    ")  # Output full metrics\n",
    "\n",
    "# Optional: Store metrics dictionary for later leaderboard comparison\n",
    "logreg_metrics[\"model\"] = \"LogisticRegression\""
   ]
  },
  {
   "cell_type": "markdown",
   "id": "009ea1e9",
   "metadata": {},
   "source": [
    "# -------------------------------------------------------------------------------\n",
    "# 🌲 Task 4: Train & Evaluate Random Forest Classifier for ClaimFrequency\n",
    "# -------------------------------------------------------------------------------\n",
    "\n",
    "This cell fits a `RandomForestClassifier` on the SMOTE-balanced training data to predict binary `ClaimFrequency`.  \n",
    "It uses our fully modular `RandomForestModelTrainer` class with full defensive guards for:\n",
    "- Missing values\n",
    "- Single-class training set issues\n",
    "- Prediction length mismatches\n",
    "\n",
    "Metrics computed include: Accuracy, Precision, Recall, F1 Score, and ROC AUC.\n"
   ]
  },
  {
   "cell_type": "code",
   "execution_count": 10,
   "id": "389e09a7",
   "metadata": {},
   "outputs": [
    {
     "name": "stdout",
     "output_type": "stream",
     "text": [
      "✅ Random Forest training complete.\n",
      "📈 Evaluation Metrics (Random Forest):\n",
      "• Accuracy: 0.9994\n",
      "• Precision: 0.9496\n",
      "• Recall: 0.8354\n",
      "• F1 Score: 0.8889\n",
      "• ROC AUC: 0.9177\n"
     ]
    }
   ],
   "source": [
    "# -------------------------------------------------------------------------------\n",
    "# 🌲 Train & Evaluate Random Forest Classifier for ClaimFrequency\n",
    "# -------------------------------------------------------------------------------\n",
    "\n",
    "from src.modeling.random_forest_trainer import (\n",
    "    RandomForestModelTrainer,\n",
    ")  # Import our RF module\n",
    "\n",
    "# Step 1: Initialize trainer with reproducible seed\n",
    "rf_trainer = RandomForestModelTrainer(random_state=42)\n",
    "\n",
    "# Step 2: Train model on balanced training set\n",
    "rf_trainer.train(X_train_balanced, y_class_train_balanced)\n",
    "\n",
    "# Step 3: Predict on original (unseen) test set\n",
    "y_pred_rf = rf_trainer.predict(X_test)\n",
    "\n",
    "# Step 4: Evaluate performance against true test labels\n",
    "rf_metrics = rf_trainer.evaluate(y_class_test, y_pred_rf)"
   ]
  },
  {
   "cell_type": "markdown",
   "id": "d4792654",
   "metadata": {},
   "source": [
    "### 🌲 SHAP Analysis – Interpreting Claim Prediction Drivers (Random Forest)\n",
    "\n",
    "We use SHAP (SHapley Additive exPlanations) to interpret the **Random Forest classifier** and identify which features most influenced the model’s prediction of claim occurrence. This enhances explainability and business trust, especially when tree-based models are used in production pricing systems.\n"
   ]
  },
  {
   "cell_type": "code",
   "execution_count": 11,
   "id": "44ff91b6",
   "metadata": {},
   "outputs": [
    {
     "name": "stdout",
     "output_type": "stream",
     "text": [
      "🔍 Running SHAP feature attribution...\n",
      "📊 SHAP Feature Importance (Random Forest):\n",
      "❌ SHAP analysis failed: The shape of the shap_values matrix does not match the shape of the provided data matrix.\n"
     ]
    }
   ],
   "source": [
    "# ------------------------------------------------------------------------------\n",
    "# 🌲 SHAP Feature Importance – Random Forest Claim Prediction Model\n",
    "# ------------------------------------------------------------------------------\n",
    "\n",
    "# Step 1: Use a sample of the training data for faster SHAP computation\n",
    "X_shap_sample = X_train_balanced.sample(n=1000, random_state=42)\n",
    "\n",
    "# Step 2: Call the SHAP explainer method from the trained RandomForestModelTrainer\n",
    "try:\n",
    "    rf_trainer.explain_with_shap(X_shap_sample)  # Shows bar chart of top features\n",
    "except Exception as e:\n",
    "    print(f\"❌ SHAP explanation failed: {e}\")"
   ]
  },
  {
   "cell_type": "markdown",
   "id": "48366819",
   "metadata": {},
   "source": [
    "### ⚖️ Model 1 – Claim Frequency Classification (XGBoost)\n",
    "\n",
    "We now train and evaluate an XGBoost classifier to estimate the probability of a claim (`ClaimFrequency = 1`) using the balanced training data. Evaluation metrics include:\n",
    "- F1 Score\n",
    "- ROC-AUC\n",
    "- Full classification report (Precision, Recall, F1 by class)\n",
    "\n",
    "This model forms the probability engine in our risk-based pricing pipeline:\n",
    "> **Premium = (Predicted Claim Probability × Predicted Claim Severity) + Expenses + Margin**\n"
   ]
  },
  {
   "cell_type": "code",
   "execution_count": 12,
   "id": "3b459ab4",
   "metadata": {},
   "outputs": [
    {
     "name": "stdout",
     "output_type": "stream",
     "text": [
      "✅ Model training complete.\n",
      "📊 Classification Report (XGBoost):\n",
      "              precision    recall  f1-score   support\n",
      "\n",
      "           0       1.00      1.00      1.00     51390\n",
      "           1       0.97      0.46      0.62       158\n",
      "\n",
      "    accuracy                           1.00     51548\n",
      "   macro avg       0.99      0.73      0.81     51548\n",
      "weighted avg       1.00      1.00      1.00     51548\n",
      "\n",
      "🏆 ROC-AUC Score: 0.9655\n"
     ]
    }
   ],
   "source": [
    "# ------------------------------------------------------------------------------\n",
    "# 🚀 Train & Evaluate XGBoost Classifier for Claim Probability (Task 4)\n",
    "# ------------------------------------------------------------------------------\n",
    "\n",
    "from src.modeling.xgboost_model_trainer import (\n",
    "    XGBoostModelTrainer,\n",
    ")  # Import canonical module\n",
    "\n",
    "# Step 1: Instantiate trainer for binary classification\n",
    "xgb_classifier = XGBoostModelTrainer(task_type=\"classification\", random_state=42)\n",
    "\n",
    "# Step 2: Train model on balanced claim data\n",
    "try:\n",
    "    xgb_classifier.train(X_train_balanced, y_class_train_balanced)\n",
    "except Exception as e:\n",
    "    print(f\"❌ Training failed: {e}\")\n",
    "\n",
    "# Step 3: Predict and evaluate on untouched test set\n",
    "try:\n",
    "    xgb_class_results = xgb_classifier.evaluate(X_test, y_class_test)\n",
    "except Exception as e:\n",
    "    print(f\"❌ Evaluation failed: {e}\")"
   ]
  },
  {
   "cell_type": "markdown",
   "id": "e44b5ec0",
   "metadata": {},
   "source": [
    "### 📊 SHAP Analysis – Interpreting Claim Probability Drivers (XGBoost)\n",
    "\n",
    "We now use **SHAP (SHapley Additive exPlanations)** to interpret the XGBoost classifier’s predictions and identify the most influential features driving the model’s claim probability estimates.\n",
    "\n",
    "This local explanation method helps quantify the marginal impact of each feature on the model’s output for individual observations. We display the **Top 10 features**, ranked by their average contribution to model predictions.\n",
    "\n",
    "> 🔍 **Why this matters:**  \n",
    "> SHAP enables transparent premium adjustments by explaining why a policyholder is high or low risk — a critical input for regulatory trust and business adoption.\n"
   ]
  },
  {
   "cell_type": "code",
   "execution_count": 13,
   "id": "ba46960e",
   "metadata": {},
   "outputs": [
    {
     "name": "stderr",
     "output_type": "stream",
     "text": [
      "100%|===================| 51469/51548 [09:09<00:00]        "
     ]
    },
    {
     "name": "stdout",
     "output_type": "stream",
     "text": [
      "🔍 SHAP Feature Importance Summary (Top 10):\n"
     ]
    },
    {
     "data": {
      "image/png": "[encoded data removed]",
      "text/plain": [
       "<Figure size 800x550 with 2 Axes>"
      ]
     },
     "metadata": {},
     "output_type": "display_data"
    }
   ],
   "source": [
    "# ------------------------------------------------------------------------------\n",
    "# 🧠 SHAP Explainability – XGBoost Classifier (Top Features)\n",
    "# ------------------------------------------------------------------------------\n",
    "\n",
    "import shap  # Local feature attribution\n",
    "import matplotlib.pyplot as plt  # For SHAP visualizations\n",
    "\n",
    "# Step 1: Initialize SHAP explainer\n",
    "explainer = shap.Explainer(xgb_classifier.model, X_test)\n",
    "\n",
    "# Step 2: Compute SHAP values for test data\n",
    "shap_values = explainer(X_test)\n",
    "\n",
    "# Step 3: Summary plot for top 10 most important features\n",
    "print(\"🔍 SHAP Feature Importance Summary (Top 10):\")\n",
    "shap.summary_plot(shap_values, X_test, max_display=10)"
   ]
  },
  {
   "cell_type": "markdown",
   "id": "a5a32fdd",
   "metadata": {},
   "source": [
    "### 💰 Model 2 – Claim Severity Regression (XGBoost)\n",
    "\n",
    "We now train and evaluate an XGBoost regressor to estimate `TotalClaims` for customers who have filed at least one claim (`ClaimFrequency = 1`). This allows us to model **claim severity** conditional on a claim occurring. Evaluation metrics include:\n",
    "\n",
    "- RMSE (Root Mean Squared Error)\n",
    "- R² Score\n",
    "- Feature Importance and SHAP Summary\n",
    "\n",
    "This model forms the **severity engine** in our pricing logic:\n",
    "> **Premium = (Predicted Claim Probability × Predicted Claim Severity) + Expenses + Margin**\n"
   ]
  },
  {
   "cell_type": "code",
   "execution_count": 14,
   "id": "571803e0",
   "metadata": {},
   "outputs": [
    {
     "name": "stdout",
     "output_type": "stream",
     "text": [
      "❌ Filtering failed: Missing 'ClaimFrequency' column in X.\n",
      "❌ Training failed: name 'X_train_sev' is not defined\n",
      "❌ Evaluation failed: name 'X_test_sev' is not defined\n",
      "❌ Feature importance failed: name 'X_train_sev' is not defined\n",
      "❌ SHAP explainability failed: name 'X_test_sev' is not defined\n"
     ]
    }
   ],
   "source": [
    "# ------------------------------------------------------------------------------\n",
    "# 💡 Train & Evaluate XGBoost Regressor for Claim Severity (Task 4)\n",
    "# ------------------------------------------------------------------------------\n",
    "\n",
    "from src.modeling.xgboost_regressor_trainer import XGBoostRegressorTrainer\n",
    "\n",
    "# Step 1: Instantiate the regressor trainer\n",
    "xgb_regressor = XGBoostRegressorTrainer(random_state=42)\n",
    "\n",
    "# Step 2: Filter data to rows with ClaimFrequency == 1 (claims > 0 only)\n",
    "try:\n",
    "    X_train_sev, y_train_sev = xgb_regressor.filter_claim_positive(\n",
    "        X_train.copy(), y_reg_train.copy()\n",
    "    )\n",
    "    X_test_sev, y_test_sev = xgb_regressor.filter_claim_positive(\n",
    "        X_test.copy(), y_reg_test.copy()\n",
    "    )\n",
    "except Exception as e:\n",
    "    print(f\"❌ Filtering failed: {e}\")\n",
    "\n",
    "# Step 3: Train model\n",
    "try:\n",
    "    xgb_regressor.train(X_train_sev, y_train_sev)\n",
    "except Exception as e:\n",
    "    print(f\"❌ Training failed: {e}\")\n",
    "\n",
    "# Step 4: Predict and evaluate performance\n",
    "try:\n",
    "    xgb_reg_results = xgb_regressor.evaluate(X_test_sev, y_test_sev)\n",
    "    print(\"📊 Severity Model Performance:\")\n",
    "    print(f\"  • RMSE: {xgb_reg_results['RMSE']}\")\n",
    "    print(f\"  • R² Score: {xgb_reg_results['R2']}\")\n",
    "except Exception as e:\n",
    "    print(f\"❌ Evaluation failed: {e}\")\n",
    "\n",
    "# Step 5: Show top features by importance\n",
    "try:\n",
    "    feature_names = X_train_sev.columns.tolist()\n",
    "    importance_df = xgb_regressor.get_feature_importance(feature_names)\n",
    "    display(importance_df.head(10))\n",
    "except Exception as e:\n",
    "    print(f\"❌ Feature importance failed: {e}\")\n",
    "\n",
    "# Step 6: SHAP summary plot (inline + save to file)\n",
    "try:\n",
    "    shap_values = xgb_regressor.compute_shap(\n",
    "        X_sample=X_test_sev,\n",
    "        feature_names=feature_names,\n",
    "        save_path=\"data/outputs/shap_summary.png\",\n",
    "    )\n",
    "except Exception as e:\n",
    "    print(f\"❌ SHAP explainability failed: {e}\")"
   ]
  },
  {
   "cell_type": "markdown",
   "id": "06c92ade",
   "metadata": {},
   "source": [
    "### 💸 Model 3 – Expected Premium Estimation\n",
    "\n",
    "We now combine the outputs of our claim frequency classifier (`P(Claim)`) and claim severity regressor (`E[TotalClaims]`) to compute the **expected premium** for each customer. This premium represents the risk-adjusted expected payout, optionally augmented by a fixed margin or expense buffer.\n",
    "\n",
    "The premium formula used is:\n",
    "> **Premium = P(Claim) × E[ClaimAmount] + Margin**\n",
    "\n",
    "This completes our end-to-end modeling pipeline for risk-based premium estimation.\n"
   ]
  },
  {
   "cell_type": "code",
   "execution_count": 15,
   "id": "8f82bf11",
   "metadata": {},
   "outputs": [
    {
     "name": "stdout",
     "output_type": "stream",
     "text": [
      "❌ Failed to prepare prediction inputs: 'y_pred'\n",
      "❌ Premium calculation failed: name 'premium_input_df' is not defined\n"
     ]
    }
   ],
   "source": [
    "# ------------------------------------------------------------------------------\n",
    "# 💸 Calculate Expected Premium using P(Claim) × E[Severity] + Margin\n",
    "# ------------------------------------------------------------------------------\n",
    "\n",
    "from src.modeling.expected_premium_calculator import ExpectedPremiumCalculator\n",
    "\n",
    "# Step 1: Merge classifier and regressor predictions into a single DataFrame\n",
    "try:\n",
    "    premium_input_df = pd.DataFrame(\n",
    "        {\n",
    "            \"predicted_claim_prob\": xgb_class_results[\"y_pred\"],  # From classifier\n",
    "            \"predicted_claim_severity\": xgb_reg_results[\"y_pred\"],  # From regressor\n",
    "        }\n",
    "    )\n",
    "except Exception as e:\n",
    "    print(f\"❌ Failed to prepare prediction inputs: {e}\")\n",
    "\n",
    "# Step 2: Instantiate premium calculator with optional margin (e.g., 50 units)\n",
    "premium_calc = ExpectedPremiumCalculator(margin=50.0)\n",
    "\n",
    "# Step 3: Compute expected premium for each row\n",
    "try:\n",
    "    premium_df = premium_calc.compute_expected_premium(\n",
    "        df=premium_input_df,\n",
    "        prob_col=\"predicted_claim_prob\",\n",
    "        severity_col=\"predicted_claim_severity\",\n",
    "    )\n",
    "    display(premium_df.head())\n",
    "except Exception as e:\n",
    "    print(f\"❌ Premium calculation failed: {e}\")"
   ]
  }
 ],
 "metadata": {
  "kernelspec": {
   "display_name": "insurance-challenge",
   "language": "python",
   "name": "python3"
  },
  "language_info": {
   "codemirror_mode": {
    "name": "ipython",
    "version": 3
   },
   "file_extension": ".py",
   "mimetype": "text/x-python",
   "name": "python",
   "nbconvert_exporter": "python",
   "pygments_lexer": "ipython3",
   "version": "3.12.0"
  }
 },
 "nbformat": 4,
 "nbformat_minor": 5
}
